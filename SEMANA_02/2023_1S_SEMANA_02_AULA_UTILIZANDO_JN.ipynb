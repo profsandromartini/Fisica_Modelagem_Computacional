{
 "cells": [
  {
   "cell_type": "markdown",
   "id": "8341a0c9",
   "metadata": {},
   "source": [
    "<img src= \"https://maua.br/images/logo-IMT.png\" width=250>"
   ]
  },
  {
   "cell_type": "markdown",
   "id": "cf4b175c",
   "metadata": {},
   "source": [
    "#  <center> <font color=#023e8a>  CIS-202: Física e Modelagem Computacional  <center>\n",
    " <center> Prof. Sandro Martini <center>"
   ]
  },
  {
   "cell_type": "markdown",
   "id": "89f58705",
   "metadata": {},
   "source": [
    "## <center> Aula 02: Utilizando o Jupyter Notebook <center> "
   ]
  },
  {
   "cell_type": "markdown",
   "id": "3d41bd72",
   "metadata": {},
   "source": [
    "### Objetivos:"
   ]
  },
  {
   "cell_type": "markdown",
   "id": "260af190",
   "metadata": {},
   "source": [
    "-  Compreender a sintaxe básica do Markdown;\n",
    "-  Aplicar a sintaxe na construção de textos no Jupyter Notebook;\n",
    "-  Inserir equações utilizando o LaTex;\n",
    "-  Criar um Jupyter Notebook."
   ]
  },
  {
   "cell_type": "markdown",
   "id": "93442ac1",
   "metadata": {},
   "source": [
    "#### Jupyter Notebook"
   ]
  },
  {
   "cell_type": "markdown",
   "id": "3905eb92",
   "metadata": {},
   "source": [
    "O [Jupyter Notebook](https://jupyter.org/) é um aplicativo da Web para criar e compartilhar documentos que contêm código ativo, equações, visualizações e texto explicativo. Basicamente, os Jupyter Notebooks são estruturados em células. Essas células podem ser basicamente de dois tipos: **células de código** (`Code`) e **células de marcação** (`Markdown`). Pressionando `Run` no menu ou SHIFT+ENTER, você executará o conteúdo de uma determinada célula. As células `Markdown `podem conter:\n",
    "\n",
    "    Markdown\n",
    "    HTML\n",
    "    LaTeX\n",
    "    Texto\n",
    "    Imagens\n",
    "    Vídeos\n",
    "    Qualquer coisa que um navegador possa entender!\n"
   ]
  },
  {
   "cell_type": "markdown",
   "id": "0f2667d4",
   "metadata": {},
   "source": [
    "**Markdown** é uma linguagem simples de marcação de texto para HTML. O notebook Jupyter reconhece a marcação e renderiza o código de marcação como HTML. Nesse primeiro momento, vamos aprender um pouco sobre a sintaxe para escrever textos com marcações."
   ]
  },
  {
   "cell_type": "markdown",
   "id": "10ab3e65",
   "metadata": {},
   "source": [
    "<div class=\"alert alert-info\">Escrevendo Títulos</div>\n"
   ]
  },
  {
   "cell_type": "markdown",
   "id": "b2ac39e8",
   "metadata": {},
   "source": [
    "Para escrever títulos de diferentes níveis, use sinais `#` em frente ao texto (um para cada nível). Veja os exemplos a seguir:"
   ]
  },
  {
   "cell_type": "markdown",
   "id": "301b1b33",
   "metadata": {},
   "source": [
    "`# Título de nível 1`"
   ]
  },
  {
   "cell_type": "markdown",
   "id": "9c8632fb",
   "metadata": {},
   "source": [
    "# Título de nível 1"
   ]
  },
  {
   "cell_type": "markdown",
   "id": "0d826d66",
   "metadata": {},
   "source": [
    "`## Título de nível 2`"
   ]
  },
  {
   "cell_type": "markdown",
   "id": "42296120",
   "metadata": {},
   "source": [
    "## Título de nível 2"
   ]
  },
  {
   "cell_type": "markdown",
   "id": "dbd95828",
   "metadata": {},
   "source": [
    "`### Título de nível 3`"
   ]
  },
  {
   "cell_type": "markdown",
   "id": "c8aac0fd",
   "metadata": {},
   "source": [
    "### Título de nível 3"
   ]
  },
  {
   "cell_type": "markdown",
   "id": "64dad221",
   "metadata": {},
   "source": [
    "`#### Título de nível 4`"
   ]
  },
  {
   "cell_type": "markdown",
   "id": "fbb634a1",
   "metadata": {},
   "source": [
    "#### Título de nível 4"
   ]
  },
  {
   "cell_type": "markdown",
   "id": "3559be79",
   "metadata": {},
   "source": [
    "<div class=\"alert alert-warning\">☑ Exercício de fixação </div>"
   ]
  },
  {
   "cell_type": "markdown",
   "id": "4cab5f5e",
   "metadata": {},
   "source": [
    "Escreva em linguagem Markdown os títulos a seguir de acordo com os níveis indicados:  \n",
    "\n",
    "Nível 1: Introdução ao Jupyter Notebook  \n",
    "Nível 2: Aprendendo a sintaxe Markdown  \n",
    "Nível 3: Escrevendo Títulos  \n",
    "Nível 4: Equações da Cinemática  \n"
   ]
  },
  {
   "cell_type": "markdown",
   "id": "5b28f645",
   "metadata": {},
   "source": [
    "**Apague este texto e coloque sua resposta aqui**"
   ]
  },
  {
   "cell_type": "markdown",
   "id": "65c174d0",
   "metadata": {},
   "source": [
    "<div class=\"alert alert-info\">Quebra de linhas</div>\n"
   ]
  },
  {
   "cell_type": "markdown",
   "id": "11e65927",
   "metadata": {},
   "source": [
    "Para quebrar uma linha termine a linha com 2 espaços. Veja o exemplo a seguir:"
   ]
  },
  {
   "cell_type": "markdown",
   "id": "7beb834d",
   "metadata": {},
   "source": [
    "Hoje está sol.  \n",
    "Amanhã vai chover.  \n",
    "A sala está vazia."
   ]
  },
  {
   "cell_type": "markdown",
   "id": "9fded3e1",
   "metadata": {},
   "source": [
    "<div class=\"alert alert-warning\">☑ Exercício de fixação</div>"
   ]
  },
  {
   "cell_type": "markdown",
   "id": "1ebb3efe",
   "metadata": {},
   "source": [
    "No parágrafo a seguir quebre as linhas de cada um dos períodos.  \n",
    "\n",
    "\"Atualmente a computação quântica é tema central de pesquisa em ciência básica e tecnologia de fronteira. Nas duas últimas décadas, o interesse pela área vinha da motivação de que os algoritmos quânticos fornecem ganhos computacionais consideráveis, em relação aos análogos clássicos. Como resultado, nos últimos anos experimentamos avanços tecnológicos que nos permitem começar a contornar alguns problemas práticos para a fabricação escalável dos computadores quânticos.\" [Fonte](https://doi.org/10.1590/1806-9126-RBEF-2018-0038)"
   ]
  },
  {
   "cell_type": "markdown",
   "id": "edacb309",
   "metadata": {},
   "source": [
    "**Apague este texto e coloque sua resposta aqui**"
   ]
  },
  {
   "cell_type": "markdown",
   "id": "92f34f31",
   "metadata": {},
   "source": [
    "<div class= \"alert alert-info\">Cor do texto</div>"
   ]
  },
  {
   "cell_type": "markdown",
   "id": "65e441be",
   "metadata": {},
   "source": [
    "Podemos alterar a cor do texto usando a tag html `<font>`. Podemos usar nomes de cores ou códigos de cores hexadecimais. Veja os exemplos a seguir:"
   ]
  },
  {
   "cell_type": "markdown",
   "id": "6007940f",
   "metadata": {},
   "source": [
    "<font color=green>Em verde</font>  \n",
    "<font color=blue>Em azul</font>  \n",
    "<font color=#FF0000>Em vermelho</font>  \n",
    "<font color=#48D1CC>Outras cores</font>"
   ]
  },
  {
   "cell_type": "markdown",
   "id": "6b8855ec",
   "metadata": {},
   "source": [
    ">Você pode explorar mais cores neste [site](https://www.techonthenet.com/css/properties/color.php). Entretanto se essas cores não capturarem exatamente o que você procura, você pode explorar as cores hexadecimais para acessar um espectro mais ampla de opções. Veja esta outra opção de [site](https://coolors.co/)."
   ]
  },
  {
   "cell_type": "markdown",
   "id": "252a8622",
   "metadata": {},
   "source": [
    "<div class= \"alert alert-info\">Negrito e itálico</div>"
   ]
  },
  {
   "cell_type": "markdown",
   "id": "0e2e2915",
   "metadata": {},
   "source": [
    "Texto em negrito é obtido com dois asteriscos ou traços baixos (underscores) envolvendo a parte do texto que deseja colocar em negrito: `**negrito**` ou `__negrito__`. Veja os seguintes exemplos:"
   ]
  },
  {
   "cell_type": "markdown",
   "id": "7ed19d1c",
   "metadata": {},
   "source": [
    "**Alan Mathison Turing (Londres, 23 de junho de 1912 — Wilmslow, Cheshire, 7 de junho de 1954) foi um matemático, cientista da computação, lógico, criptoanalista, filósofo e biólogo teórico britânico.** [Fonte](https://pt.wikipedia.org/wiki/Alan_Turing)"
   ]
  },
  {
   "cell_type": "markdown",
   "id": "8b6cd0fa",
   "metadata": {},
   "source": [
    "__Turing foi altamente influente no desenvolvimento da moderna ciência da computação teórica, proporcionando uma formalização dos conceitos de algoritmo e computação com a máquina de Turing, que pode ser considerada um modelo de um computador de uso geral.__ [Fonte](https://pt.wikipedia.org/wiki/Alan_Turing)"
   ]
  },
  {
   "cell_type": "markdown",
   "id": "3e6d04c8",
   "metadata": {},
   "source": [
    "Textos em itálico são obtidos com um asterisco ou uma traço baixo (underscores) envolvendo o texto: `*itálico*` ou `_itálico_`"
   ]
  },
  {
   "cell_type": "markdown",
   "id": "8785e6f8",
   "metadata": {},
   "source": [
    "*Alan Mathison Turing (Londres, 23 de junho de 1912 — Wilmslow, Cheshire, 7 de junho de 1954) foi um matemático, cientista da computação, lógico, criptoanalista, filósofo e biólogo teórico britânico*"
   ]
  },
  {
   "cell_type": "markdown",
   "id": "70743a16",
   "metadata": {},
   "source": [
    "_Turing foi altamente influente no desenvolvimento da moderna ciência da computação teórica, proporcionando uma formalização dos conceitos de algoritmo e computação com a máquina de Turing, que pode ser considerada um modelo de um computador de uso geral._"
   ]
  },
  {
   "cell_type": "markdown",
   "id": "4c7aabf3",
   "metadata": {},
   "source": [
    "Texto em negrito e itálico simultâneos são obtidos com três asteriscos ou traços baixos (underscores) envolvendo o texto: `***negrito e itálico***` ou `___negrito e itálico___`"
   ]
  },
  {
   "cell_type": "markdown",
   "id": "757e336c",
   "metadata": {},
   "source": [
    "***Alan Mathison Turing (Londres, 23 de junho de 1912 — Wilmslow, Cheshire, 7 de junho de 1954) foi um matemático, cientista da computação, lógico, criptoanalista, filósofo e biólogo teórico britânico***"
   ]
  },
  {
   "cell_type": "markdown",
   "id": "b410bec3",
   "metadata": {},
   "source": [
    "___Turing foi altamente influente no desenvolvimento da moderna ciência da computação teórica, proporcionando uma formalização dos conceitos de algoritmo e computação com a máquina de Turing, que pode ser considerada um modelo de um computador de uso geral.___"
   ]
  },
  {
   "cell_type": "markdown",
   "id": "4a2f3560",
   "metadata": {},
   "source": [
    "<div class=\"alert alert-warning\">☑ Exercício de fixação</div>"
   ]
  },
  {
   "cell_type": "markdown",
   "id": "6417d366",
   "metadata": {},
   "source": [
    "No texto a seguir, escreva em negrito as partes do texto em vermelho, em itálico as partes em verdes, e em itálico e negrito as partes destacadas e azul.  \n",
    "\n",
    "\"<font color=green> Um dos primeiros resultados desse interesse pela computação quântica foi o surgimento dos simuladores quânticos, ou seja, circuitos quânticos simulados em uma arquitetura clássica</font>. <font color=blue> A proposta central dos simuladores é proporcionar uma ferramenta de teste para circuitos e algoritmos quânticos, seja voltado para pesquisa e/ou para práticas pedagógicas.</font> <font color=red> Independentemente do viés adotado para o simulador, os mesmos auxiliam a compreender conceitos e definições da computação quântica.</font> Entre alguns exemplos podemos citar: o LIQUi, voltado para pesquisa e disponibilizado pela Microsoft; o Quantum Computing Playground, voltado para pesquisa e práticas pedagógicas, e o Quirk, um simulador com uma grande variedade de portas quânticas disponíveis e fácil implementação dos circuitos destinados a projetos de pesquisa ou pedagógicos.\" [Fonte](https://doi.org/10.1590/1806-9126-RBEF-2018-0038)"
   ]
  },
  {
   "cell_type": "markdown",
   "id": "1b175f66",
   "metadata": {},
   "source": [
    "**Apague este texto e coloque sua resposta aqui**"
   ]
  },
  {
   "cell_type": "markdown",
   "id": "8ba139a0",
   "metadata": {},
   "source": [
    "<div class= \"alert alert-info\">Texto ou palavra tachada (riscada)</div>"
   ]
  },
  {
   "cell_type": "markdown",
   "id": "2fa931b7",
   "metadata": {},
   "source": [
    "Textos ou palavras tachados são obtidos com dois “tils” `˜˜` anterior e posterior ao texto que deseja tachar: `~~Tachado~~`. Veja os seguintes exemplos:"
   ]
  },
  {
   "cell_type": "markdown",
   "id": "f461328f",
   "metadata": {},
   "source": [
    "~~Este é apenas um teste~~  \n",
    "Um ~~simulador~~ com uma grande variedade de portas quânticas."
   ]
  },
  {
   "cell_type": "markdown",
   "id": "0dcce202",
   "metadata": {},
   "source": [
    "<div class=\"alert alert-warning\">☑ Exercício de fixação</div>"
   ]
  },
  {
   "cell_type": "markdown",
   "id": "7ea2c2a1",
   "metadata": {},
   "source": [
    "No texto abaixo, tache (risque) as palavras ou frases em vermelho.  \n",
    "\n",
    "\"Um dos primeiros <font color=red> resultados desse interesse pela computação quântica</font> foi o surgimento dos simuladores quânticos, ou seja, circuitos <font color=red>quânticos</font> simulados em uma arquitetura clássica.\"\n",
    "\n",
    "\n",
    "\n"
   ]
  },
  {
   "cell_type": "markdown",
   "id": "c9c7e905",
   "metadata": {},
   "source": [
    "**Apague este texto e coloque sua resposta aqui**"
   ]
  },
  {
   "cell_type": "markdown",
   "id": "3630bbb6",
   "metadata": {},
   "source": [
    "<div class= \"alert alert-info\">Inserindo uma linha horizontal entre as células</div>"
   ]
  },
  {
   "cell_type": "markdown",
   "id": "dc521673",
   "metadata": {},
   "source": [
    "Linhas horizontais são inseridas com três ou mais asteriscos `***`, \"dashes\" `---`, ou \"underscores\" `___` em uma linha. Veja o exemplo a seguir:"
   ]
  },
  {
   "cell_type": "markdown",
   "id": "5a0e3a0a",
   "metadata": {},
   "source": [
    "***"
   ]
  },
  {
   "cell_type": "markdown",
   "id": "231e5b8a",
   "metadata": {},
   "source": [
    "<div class= \"alert alert-info\">Destacar texto</div>"
   ]
  },
  {
   "cell_type": "markdown",
   "id": "9f932f6c",
   "metadata": {},
   "source": [
    "Também podemos destacar o texto com a tag html `<mark>`. Veja os exemplos a seguir:"
   ]
  },
  {
   "cell_type": "markdown",
   "id": "84afcbe0",
   "metadata": {},
   "source": [
    "\"Um conceito importante na computação quântica é o <mark>q-bit</mark>, um bit de informação codificado nos estados quânticos de um sistema de 2-níveis que, matematicamente, é descrito por um vetor bidimensional no <mark>espaço Hilbert complexo de dimensão finita.</mark>\" [Fonte](https://doi.org/10.1590/1806-9126-RBEF-2018-0038)"
   ]
  },
  {
   "cell_type": "markdown",
   "id": "d3f427ef",
   "metadata": {},
   "source": [
    "<div class= \"alert alert-info\">Caixas de alerta</div>"
   ]
  },
  {
   "cell_type": "markdown",
   "id": "79e4392f",
   "metadata": {},
   "source": [
    "Podemos formatar o plano de fundo e a cor da fonte usando alertas [bootstrap](https://getbootstrap.com.br/) para tornar a documentação de texto mais atraente de ler. Veja os exemplos a seguir:"
   ]
  },
  {
   "cell_type": "markdown",
   "id": "97b35346",
   "metadata": {},
   "source": [
    "<div class=\"alert alert-info\">Exemplo de um texto em uma caixa azul.</div>"
   ]
  },
  {
   "cell_type": "markdown",
   "id": "0a06faf2",
   "metadata": {},
   "source": [
    "<div class=\"alert alert-success\">Exemplo de um texto em uma caixa verde.</div>"
   ]
  },
  {
   "cell_type": "markdown",
   "id": "60eaa55e",
   "metadata": {},
   "source": [
    "<div class=\"alert alert-warning\">Exemplo de um texto em uma caixa amarelo.</div>"
   ]
  },
  {
   "cell_type": "markdown",
   "id": "6512a882",
   "metadata": {},
   "source": [
    "<div class=\"alert alert-danger\">Exemplo de um texto em uma caixa vermelha.</div>"
   ]
  },
  {
   "cell_type": "markdown",
   "id": "9ed61e60",
   "metadata": {},
   "source": [
    "<div class= \"alert alert-info\"> Mostrando partes de um código </div>"
   ]
  },
  {
   "cell_type": "markdown",
   "id": "40b4591a",
   "metadata": {},
   "source": [
    "Em alguns casos é útil mostrar referências de código ou a sintaxe em células Markdown em vez de executá-las em células de código. Podemos usar crases simples para mostrar um bloco de código embutido. Veja o exemplos a seguir:"
   ]
  },
  {
   "cell_type": "markdown",
   "id": "dd99ea5e",
   "metadata": {},
   "source": [
    "`import numpy as np`"
   ]
  },
  {
   "cell_type": "markdown",
   "id": "1b3ec8c6",
   "metadata": {},
   "source": [
    "<div class= \"alert alert-info\"> Criando Tabelas </div>"
   ]
  },
  {
   "cell_type": "markdown",
   "id": "f1bd2f4f",
   "metadata": {},
   "source": [
    "Para criar uma tabela utilize a barra vertical `|`para separar os caracteres de entrada. Veja os exemplos a seguir:"
   ]
  },
  {
   "cell_type": "markdown",
   "id": "b1b5456e",
   "metadata": {},
   "source": [
    "| Operador Python | Descrição  |\n",
    "| :---: | :---: |\n",
    "| `+` | adição |\n",
    "| `-` | subtração |\n",
    "| `*` | multiplicação |\n",
    "| `/` | divisão |\n",
    "| `**` | potência |"
   ]
  },
  {
   "cell_type": "markdown",
   "id": "330775dd",
   "metadata": {},
   "source": [
    "No exemplo acima o conteúdo da tabela está alinhado no centro. Isso é possível usando a sintaxe `:---:`. Para alinhar o texto à direita usamos a sintaxe `:---` "
   ]
  },
  {
   "cell_type": "markdown",
   "id": "869eb9d8",
   "metadata": {},
   "source": [
    "| Operador Python | Descrição  |\n",
    "| :--- | :--- |\n",
    "| `+` | adição |\n",
    "| `-` | subtração |\n",
    "| `*` | multiplicação |\n",
    "| `/` | divisão |\n",
    "| `**` | potência |"
   ]
  },
  {
   "cell_type": "markdown",
   "id": "e3abcfec",
   "metadata": {},
   "source": [
    "Já para alinhar o texto à esquerda usamos a sintaxe `---:`"
   ]
  },
  {
   "cell_type": "markdown",
   "id": "15836606",
   "metadata": {},
   "source": [
    "| Operador Python | Descrição  |\n",
    "| ---: | ---: |\n",
    "| `+` | adição |\n",
    "| `-` | subtração |\n",
    "| `*` | multiplicação |\n",
    "| `/` | divisão |\n",
    "| `**` | potência |"
   ]
  },
  {
   "cell_type": "markdown",
   "id": "8dac0e86",
   "metadata": {},
   "source": [
    "<div class=\"alert alert-warning\">☑ Exercício de fixação</div>"
   ]
  },
  {
   "cell_type": "markdown",
   "id": "32377d61",
   "metadata": {},
   "source": [
    "Crie uma tabela contendo as disciplinas já cursadas e as que estão em andamento, e os respectivos semestres/anos."
   ]
  },
  {
   "cell_type": "markdown",
   "id": "d10cc9e2",
   "metadata": {},
   "source": [
    "**Apague este texto e coloque sua resposta aqui**"
   ]
  },
  {
   "cell_type": "markdown",
   "id": "a0fb15f8",
   "metadata": {},
   "source": [
    "<div class= \"alert alert-info\"> Criando um recuo para citação ou ênfase </div>"
   ]
  },
  {
   "cell_type": "markdown",
   "id": "4c794201",
   "metadata": {},
   "source": [
    "O recuo é outra maneira de formatar o texto para melhorar a legibilidade. Podemos adicionar recuo com `>`. Veja o exemplos a seguir:"
   ]
  },
  {
   "cell_type": "markdown",
   "id": "f00b9324",
   "metadata": {},
   "source": [
    "Aqui um exemplo de frase sem recuo.\n",
    "> **Nota:** Aqui um exemplo de texto recuado."
   ]
  },
  {
   "cell_type": "markdown",
   "id": "72bb21d4",
   "metadata": {},
   "source": [
    "Você pode cirar vários níveis de recuo. Veja o exemplo a seguir:"
   ]
  },
  {
   "cell_type": "markdown",
   "id": "eb240a72",
   "metadata": {},
   "source": [
    "Aqui um texto sem recuo.\n",
    ">Recuo 1\n",
    ">>Recuo 2\n",
    ">>>Recuo 3"
   ]
  },
  {
   "cell_type": "markdown",
   "id": "64d925b1",
   "metadata": {},
   "source": [
    "<div class= \"alert alert-info\">Criando Listas</div>"
   ]
  },
  {
   "cell_type": "markdown",
   "id": "68314f75",
   "metadata": {},
   "source": [
    "Criando uma lista ordenada usando números:"
   ]
  },
  {
   "cell_type": "markdown",
   "id": "c27abc48",
   "metadata": {},
   "source": [
    "1. Teoria dos números\n",
    "2. Álgebra\n",
    "3. Equações diferenciais\n",
    "4. Probabilidade"
   ]
  },
  {
   "cell_type": "markdown",
   "id": "b09749c4",
   "metadata": {},
   "source": [
    "Crie uma lista não ordenada usando um asterisco `*` para cada item:"
   ]
  },
  {
   "cell_type": "markdown",
   "id": "8545637c",
   "metadata": {},
   "source": [
    "* Teoria dos números\n",
    "* Álgebra\n",
    "* Equações diferenciais\n",
    "* Probabilidade"
   ]
  },
  {
   "cell_type": "markdown",
   "id": "9e319d4e",
   "metadata": {},
   "source": [
    "Use recuo para criar listas aninhadas:"
   ]
  },
  {
   "cell_type": "markdown",
   "id": "badfca50",
   "metadata": {},
   "source": [
    "1. Matemática\n",
    "  * Álgebra linear\n",
    "  * Probabilidade\n",
    "  * Topologia\n",
    "2. Física\n",
    "  * Mecânica Clássica\n",
    "  * Eletromagnetismo\n",
    "  * Relatividade\n",
    "3. Biologia\n",
    "  * Reprodução\n",
    "  * Imunologia\n",
    "  * Células"
   ]
  },
  {
   "cell_type": "markdown",
   "id": "229ebe8c",
   "metadata": {},
   "source": [
    "<div class= \"alert alert-info\">Adicione formas e emojis</div>"
   ]
  },
  {
   "cell_type": "markdown",
   "id": "c05bcedf",
   "metadata": {},
   "source": [
    "Você pode tornar um longo parágrafo de texto simples mais atraente adicionando formas e emojis. Veja os exemplos a seguir:"
   ]
  },
  {
   "cell_type": "markdown",
   "id": "a9aa131d",
   "metadata": {},
   "source": [
    "&#10148; Ponto 1  \n",
    "&#10148; Ponto 2  \n",
    "&#10148; Ponto 3"
   ]
  },
  {
   "cell_type": "markdown",
   "id": "b29325be",
   "metadata": {},
   "source": [
    "✅ Texto A  \n",
    "✅ Texto B  \n",
    "✅ Texto C"
   ]
  },
  {
   "cell_type": "markdown",
   "id": "535a1ef0",
   "metadata": {},
   "source": [
    "Você pode encontrar mais emojis e formas nesse [link](https://texteditor.com/characters/arrows/)."
   ]
  },
  {
   "cell_type": "markdown",
   "id": "18c0cff5",
   "metadata": {},
   "source": [
    "↙ ☑ ╳ ⅀ ⮩ 🍒 🐀 &#128030;"
   ]
  },
  {
   "cell_type": "markdown",
   "id": "b9df751e",
   "metadata": {},
   "source": [
    "<div class= \"alert alert-info\">Inserindo links</div>"
   ]
  },
  {
   "cell_type": "markdown",
   "id": "4f38b641",
   "metadata": {},
   "source": [
    "Para inserir um link em qualquer parte do texto, use a sintaxe `[descrição](url)`. Veja os exemplos a seguir:"
   ]
  },
  {
   "cell_type": "markdown",
   "id": "f81bc621",
   "metadata": {},
   "source": [
    "[IMT](https://maua.br/)  \n",
    "[Ciência da Computação - Mauá](https://maua.br/graduacao/ciencia-computacao)"
   ]
  },
  {
   "cell_type": "markdown",
   "id": "314b1242",
   "metadata": {},
   "source": [
    "<div class= \"alert alert-info\">Inserindo Imagens</div>"
   ]
  },
  {
   "cell_type": "markdown",
   "id": "ac4c3b41",
   "metadata": {},
   "source": [
    "Para incluir uma imagen da rede utilize a seguinte sintaxe `![description](url)`. Por exemplo: `![Jupyter logo](https://jupyter.org/assets/try/jupyter.png)`"
   ]
  },
  {
   "cell_type": "markdown",
   "id": "ee62b3f5",
   "metadata": {},
   "source": [
    "![Jupyter logo](https://jupyter.org/assets/try/jupyter.png)"
   ]
  },
  {
   "cell_type": "markdown",
   "id": "c10be882",
   "metadata": {},
   "source": [
    ">Podemos alterar o tamanho da imagem usando argumentos de largura ou altura. Por exemplo, `<img src=”example.jpeg” width=250>` irá redimensionar a imagem exibida para a largura desejada enquanto mantém a relação entre largura e altura. Vejamos um exemplo sem redimensionamento `<img src= \"https://maua.br/images/logo-IMT.png\">`"
   ]
  },
  {
   "cell_type": "markdown",
   "id": "a0e0851c",
   "metadata": {},
   "source": [
    "<img src= \"https://maua.br/images/logo-IMT.png\">"
   ]
  },
  {
   "cell_type": "markdown",
   "id": "f91de348",
   "metadata": {},
   "source": [
    ">Inserindo uma redução na largura:`<img src= \"https://maua.br/images/logo-IMT.png\" width=250>`"
   ]
  },
  {
   "cell_type": "markdown",
   "id": "7bbcd597",
   "metadata": {},
   "source": [
    "<img src= \"https://maua.br/images/logo-IMT.png\" width=250>"
   ]
  },
  {
   "cell_type": "markdown",
   "id": "02c54562",
   "metadata": {},
   "source": [
    "⚠ **<font color=#FF0000>ATENÇÃO</font>** ⚠  \n",
    "Você pode também inserir imagens do seu computador local. Para isso selecione uma célula `Markdown`, depois vá no menu em `Edit` e clique em `Insert Image`. Uma janela abrirá e você poderá selecionar uma imagem gravada no seu computador."
   ]
  },
  {
   "cell_type": "markdown",
   "id": "02601e19",
   "metadata": {},
   "source": [
    "<div class= \"alert alert-info\">Inserindo Gifs</div>"
   ]
  },
  {
   "cell_type": "markdown",
   "id": "a4878e2e",
   "metadata": {},
   "source": [
    "Podemos incorporar uma GIF, uma imagem animada, use a seguinte sintaxe `<img src=\"example.gif\"/>`"
   ]
  },
  {
   "cell_type": "markdown",
   "id": "352ed8c4",
   "metadata": {},
   "source": [
    "<img src=\"https://miro.medium.com/v2/resize:fit:1100/0*0aVjNRQZohyQh7MR.gif\"/>"
   ]
  },
  {
   "cell_type": "markdown",
   "id": "41e9d98b",
   "metadata": {},
   "source": [
    "<div class= \"alert alert-info\">Inserindo Vídeos do Youtube</div>"
   ]
  },
  {
   "cell_type": "markdown",
   "id": "dcc129a3",
   "metadata": {},
   "source": [
    "Para inserir vídeos do Youtube, utilizamos o módulo `IPython.display` que fornece uma função `YouTubeVideo()`. Essa é a forma mais conveniente para incorporar um vídeo do YouTube. Primeiro importamos a função e depois ir para o vídeo do YouTube e copiar seu ID. Por fim, colamos o ID na função `YouTubeVideo()`. **Aqui é importante destacar que você deve selecionar a célula `Code`.** Vejamos no exemplo a seguir:"
   ]
  },
  {
   "cell_type": "code",
   "execution_count": 1,
   "id": "691e053b",
   "metadata": {},
   "outputs": [],
   "source": [
    "from IPython.display import YouTubeVideo"
   ]
  },
  {
   "cell_type": "code",
   "execution_count": 2,
   "id": "f50ffe16",
   "metadata": {},
   "outputs": [
    {
     "data": {
      "image/jpeg": "[encoded data removed]",
      "text/html": [
       "\n",
       "        <iframe\n",
       "            width=\"400\"\n",
       "            height=\"300\"\n",
       "            src=\"https://www.youtube.com/embed/ZC8bfSZLl80\"\n",
       "            frameborder=\"0\"\n",
       "            allowfullscreen\n",
       "            \n",
       "        ></iframe>\n",
       "        "
      ],
      "text/plain": [
       "<IPython.lib.display.YouTubeVideo at 0x2d5517e1cd0>"
      ]
     },
     "execution_count": 2,
     "metadata": {},
     "output_type": "execute_result"
    }
   ],
   "source": [
    "YouTubeVideo(\"ZC8bfSZLl80\")"
   ]
  },
  {
   "cell_type": "markdown",
   "id": "ec9a98fe",
   "metadata": {},
   "source": [
    "Se você deseja alinhar o vídeo do YouTube, pode usar a função `IPythonHTML()`. No entanto, neste método temos que usar o endereço de incorporação do vídeo. **Aqui é importante destacar que você deve selecionar a célula `Code`.** Veja o exemplo a seguir:"
   ]
  },
  {
   "cell_type": "code",
   "execution_count": 3,
   "id": "943f326a",
   "metadata": {},
   "outputs": [],
   "source": [
    "from IPython.display import HTML"
   ]
  },
  {
   "cell_type": "code",
   "execution_count": 4,
   "id": "d4fa0d30",
   "metadata": {},
   "outputs": [
    {
     "data": {
      "text/html": [
       "\n",
       "<div align=\"center\">\n",
       "    <iframe width=\"560\" height=\"315\"\n",
       "    src=\"https://youtube.com/embed/ZC8bfSZLl80\"\n",
       "    </iframe>\n",
       "</div>\n"
      ],
      "text/plain": [
       "<IPython.core.display.HTML object>"
      ]
     },
     "execution_count": 4,
     "metadata": {},
     "output_type": "execute_result"
    }
   ],
   "source": [
    "HTML(\"\"\"\n",
    "<div align=\"center\">\n",
    "    <iframe width=\"560\" height=\"315\"\n",
    "    src=\"https://youtube.com/embed/ZC8bfSZLl80\"\n",
    "    </iframe>\n",
    "</div>\n",
    "\"\"\")"
   ]
  },
  {
   "cell_type": "markdown",
   "id": "ef165572",
   "metadata": {},
   "source": [
    "<div class= \"alert alert-info\">Referências </div>"
   ]
  },
  {
   "cell_type": "markdown",
   "id": "912b6ea9",
   "metadata": {},
   "source": [
    "Para obter mais informações sobre markdown, consulte:    \n",
    "[Markdown Basics no GitHub](https://help.github.com/articles/basic-writing-and-formatting-syntax/)   \n",
    "[Markdown Syntax](https://daringfireball.net/projects/markdown/syntax)  \n",
    "[Mathematical Python](https://patrickwalls.github.io/mathematicalpython/jupyter/markdown/)  \n",
    "[Embed YouTube Videos in the Jupyter Notebook](https://medium.com/@shouke.wei/how-to-embed-youtube-videos-in-the-jupyter-notebook-1a5fbfc0cdc2)  \n",
    "[Enrich your Jupyter Notebook](https://towardsdatascience.com/enrich-your-jupyter-notebook-with-these-tips-55c8ead25255)"
   ]
  },
  {
   "cell_type": "markdown",
   "id": "00b74ef0",
   "metadata": {},
   "source": [
    "<div class= \"alert alert-info\">Editando equações: Latex </div>"
   ]
  },
  {
   "cell_type": "markdown",
   "id": "ba096aea",
   "metadata": {},
   "source": [
    "LaTeX é um ambiente de programação para produção de **documentos científicos**. O Jupyter notebook reconhece o código LaTeX escrito em células markdown e renderiza os símbolos matemáticos no navegador usando a biblioteca JavaScript MathJax."
   ]
  },
  {
   "cell_type": "markdown",
   "id": "e11181fb",
   "metadata": {},
   "source": [
    "**Equações em linha**  \n",
    "Coloque o código LaTeX em cifrões `$ ... $` para exibir a equação na linha. Por exemplo, o código: `$a^2 + b^2$` aparecerá numa celula markdown como:"
   ]
  },
  {
   "cell_type": "markdown",
   "id": "61469ab5",
   "metadata": {},
   "source": [
    "$a^2 + b^2$"
   ]
  },
  {
   "cell_type": "markdown",
   "id": "43a3c15f",
   "metadata": {},
   "source": [
    "Outro exemplo de código LaTex: `$\\frac{a+b}{a-b}$`aparecerá numa celula markdown como:"
   ]
  },
  {
   "cell_type": "markdown",
   "id": "3f98c3c4",
   "metadata": {},
   "source": [
    "$\\frac{a+b}{a-b}$"
   ]
  },
  {
   "cell_type": "markdown",
   "id": "1c8cc561",
   "metadata": {},
   "source": [
    "Coloque o código LaTeX entre cifrões duplos `$$ ... $$` para exibir expressões em um parágrafo centralizado. Por exemplo:"
   ]
  },
  {
   "cell_type": "markdown",
   "id": "699e0ede",
   "metadata": {},
   "source": [
    "$$a^2 + b^2$$"
   ]
  },
  {
   "cell_type": "markdown",
   "id": "4bc93fb6",
   "metadata": {},
   "source": [
    "$$\\frac{a+b}{a-b}$$"
   ]
  },
  {
   "cell_type": "markdown",
   "id": "2ae77e8a",
   "metadata": {},
   "source": [
    "Se você não conhece o LaTex, não se preocupe! Existem ferramentas online que permitem que você escreva a equação e copie a sintaxe em LaTex. Seguem alguns sites:  \n",
    "[webdemo.myscript](https://webdemo.myscript.com/views/math/index.html)  \n",
    "[latex.codecogs](https://latex.codecogs.com/legacy/eqneditor/editor.php?lang=pt-br)  \n"
   ]
  },
  {
   "cell_type": "markdown",
   "id": "fd8583b2",
   "metadata": {},
   "source": [
    "Veja o LaTeX WikiBook (Matemática) e o Detexify App para encontrar qualquer símbolo que você possa imaginar:  \n",
    "[LaTeX WikiBook (Mathematics)](https://en.wikibooks.org/wiki/LaTeX/Mathematics)  \n",
    "[Detexify App](http://detexify.kirelabs.org/classify.html)  "
   ]
  },
  {
   "cell_type": "markdown",
   "id": "b36b42fa",
   "metadata": {},
   "source": [
    "<div class=\"alert alert-warning\">☑ Exercício de fixação</div>"
   ]
  },
  {
   "cell_type": "markdown",
   "id": "79ed8a82",
   "metadata": {},
   "source": [
    "Escreva em LaTex a expressão matemática para calcular as raízes de uma equação do segundo grau do tipo: $ax^2 + bx +c = 0$, em que $a$, $b$ e $c$ são números reais."
   ]
  },
  {
   "cell_type": "markdown",
   "id": "e4e3713c",
   "metadata": {},
   "source": [
    "**Apague este texto e coloque sua resposta aqui**"
   ]
  },
  {
   "cell_type": "markdown",
   "id": "91bc0aa4",
   "metadata": {},
   "source": [
    "<div class= \"alert alert-info\"> Códigos </div>"
   ]
  },
  {
   "cell_type": "markdown",
   "id": "f631b460",
   "metadata": {},
   "source": [
    "Anteriormente apresentamos várias possibilidades de utilização da célula Markdown e sua sintaxe básica. O Jupyter Notebook também permite que códigos sejam executados e suas saídas sejam analisadas de diferentes formas. Vejamos alguns exemplos de células contendo código python:"
   ]
  },
  {
   "cell_type": "code",
   "execution_count": 5,
   "id": "440c3d61",
   "metadata": {},
   "outputs": [
    {
     "data": {
      "text/plain": [
       "6"
      ]
     },
     "execution_count": 5,
     "metadata": {},
     "output_type": "execute_result"
    }
   ],
   "source": [
    "a = 2\n",
    "b = 3\n",
    "c = a*b\n",
    "c"
   ]
  },
  {
   "cell_type": "code",
   "execution_count": 6,
   "id": "d902e30b",
   "metadata": {},
   "outputs": [
    {
     "data": {
      "image/png": "[encoded data removed]",
      "text/plain": [
       "<Figure size 640x480 with 1 Axes>"
      ]
     },
     "metadata": {},
     "output_type": "display_data"
    }
   ],
   "source": [
    "import numpy as np\n",
    "import matplotlib.pyplot as plt\n",
    "\n",
    "x = [-5,-2,0,1,5]\n",
    "y = [2,-1,1,-4,0]\n",
    "plt.plot(x,y)\n",
    "plt.show()\n",
    "\n",
    "#Fonte: https://patrickwalls.github.io/mathematicalpython/scipy/matplotlib/"
   ]
  },
  {
   "cell_type": "code",
   "execution_count": 7,
   "id": "7532abb0",
   "metadata": {},
   "outputs": [
    {
     "data": {
      "image/png": "[encoded data removed]",
      "text/plain": [
       "<Figure size 640x480 with 1 Axes>"
      ]
     },
     "metadata": {},
     "output_type": "display_data"
    }
   ],
   "source": [
    "x = np.linspace(-2,2,41)\n",
    "y = np.exp(-x**2) * np.cos(2*np.pi*x)\n",
    "plt.plot(x,y,alpha=0.4,label='Decaying Cosine',\n",
    "         color='red',linestyle='dashed',linewidth=2,\n",
    "         marker='o',markersize=5,markerfacecolor='blue',\n",
    "         markeredgecolor='blue')\n",
    "plt.ylim([-2,2])\n",
    "plt.legend()\n",
    "plt.show()\n",
    "\n",
    "#Fonte: https://patrickwalls.github.io/mathematicalpython/scipy/matplotlib/"
   ]
  },
  {
   "cell_type": "markdown",
   "id": "73dd72ab",
   "metadata": {},
   "source": [
    "<div class=\"alert alert-success\">Resumindo: o Jupyter Notebook é um documento que suporta código executável, equações, visualizações e texto narrativo. Especificamente, os notebooks Jupyter permitem que o usuário reuna dados, código e texto, para contar uma história computacional interativa.</div>"
   ]
  },
  {
   "cell_type": "markdown",
   "id": "8e276b4d",
   "metadata": {},
   "source": [
    "<div class=\"alert alert-danger\">⚠ Exercício para entrega </div>"
   ]
  },
  {
   "cell_type": "markdown",
   "id": "be095216",
   "metadata": {},
   "source": [
    "Crie um novo arquivo Jupyter Notebook sobre **Sistemas de Unidades e Conversões**. O notebook deve conter textos com os elementos apresentados anteriormente (títulos, figuras, tabelas, equações, links, listas, vídeos etc.) e um código em python em que o usuário possa entrar com os dados e o código realiza as seguintes conversões de unidades:  \n",
    "* **km/h** (quilômetro/hora) para **m/s** (metro/segundo)  \n",
    "* **m/s** (metro/segundo) para **km/h** (quilômetro/hora)  \n",
    "\n",
    "O usuário deve ver o resultado da conversão.\n",
    "\n",
    "Você pode fazer a pesquisa nos próprios livros textos da disciplina e/ou em sites. Observe atentamente a fonte e cite corretamente quando for utilizar alguma informação.  \n",
    "  \n",
    "**ATENÇÃO:** Não esqueça de colocar seu nome!"
   ]
  },
  {
   "cell_type": "code",
   "execution_count": null,
   "id": "48dffed8",
   "metadata": {},
   "outputs": [],
   "source": []
  }
 ],
 "metadata": {
  "kernelspec": {
   "display_name": "Python 3 (ipykernel)",
   "language": "python",
   "name": "python3"
  },
  "language_info": {
   "codemirror_mode": {
    "name": "ipython",
    "version": 3
   },
   "file_extension": ".py",
   "mimetype": "text/x-python",
   "name": "python",
   "nbconvert_exporter": "python",
   "pygments_lexer": "ipython3",
   "version": "3.9.13"
  }
 },
 "nbformat": 4,
 "nbformat_minor": 5
}
